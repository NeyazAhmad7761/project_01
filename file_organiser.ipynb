{
 "cells": [
  {
   "cell_type": "code",
   "execution_count": 33,
   "metadata": {},
   "outputs": [
    {
     "ename": "",
     "evalue": "",
     "output_type": "error",
     "traceback": [
      "\u001b[1;31mRunning cells with 'Python' requires the ipykernel package.\n",
      "\u001b[1;31mRun the following command to install 'ipykernel' into the Python environment. \n",
      "\u001b[1;31mCommand: 'c:/msys64/mingw64/bin/python.exe -m pip install ipykernel -U --user --force-reinstall'"
     ]
    }
   ],
   "source": [
    "import os\n",
    "import shutil\n",
    "\n",
    "directory = './'\n",
    "file_types = {\n",
    "    'images': ['.jpg', '.jpeg', '.png', 'gif'],\n",
    "    'documents': ['.pdf', '.docx', '.txt'],\n",
    "    'videos': ['.mp4', '.mkv', '.flv'],\n",
    "    'audios': ['.mp3', '.wav'],\n",
    "    'archives': ['.zip', '.tar', '.rar'],\n",
    "    'spreadsheets': ['.xls', '.xlsx', '.csv']  \n",
    "}"
   ]
  },
  {
   "cell_type": "code",
   "execution_count": 34,
   "metadata": {},
   "outputs": [],
   "source": [
    "def create_folders(base_dir, folders):\n",
    "    for folder in folders:\n",
    "        folder_path = os.path.join(base_dir, folder)\n",
    "        if not os.path.exists(folder_path):\n",
    "            os.makedirs(folder_path)\n",
    "    "
   ]
  },
  {
   "cell_type": "code",
   "execution_count": 35,
   "metadata": {},
   "outputs": [],
   "source": [
    "def organise_files_by_types(base_dir, file_types):\n",
    "    for filename in os.listdir(base_dir):\n",
    "        file_path = os.path.join(base_dir, filename)\n",
    "\n",
    "        if os.path.isdir(file_path):\n",
    "            continue\n",
    "        # check the particular file type and move it to a appropiate foder \n",
    "        file_ext  = os.path.splitext(filename)[1].lower()\n",
    "\n",
    "        for folder, extensions in file_types.items():\n",
    "            if file_ext in extensions:\n",
    "                target_folder = os.path.join(base_dir, folder)\n",
    "                shutil.move(file_path, target_folder)\n",
    "                print(f\"Moved {filename} to {folder}\")\n",
    "                break\n"
   ]
  },
  {
   "cell_type": "code",
   "execution_count": 36,
   "metadata": {},
   "outputs": [
    {
     "name": "stdout",
     "output_type": "stream",
     "text": [
      "Moved Welcome to CollegeDesire _ Shape The Future - Google Chrome 2023-04-04 22-45-49.mp4 to videos\n"
     ]
    }
   ],
   "source": [
    "create_folders(directory, file_types.keys())\n",
    "organise_files_by_types(directory, file_types)"
   ]
  }
 ],
 "metadata": {
  "kernelspec": {
   "display_name": "Python 3",
   "language": "python",
   "name": "python3"
  },
  "language_info": {
   "codemirror_mode": {
    "name": "ipython",
    "version": 3
   },
   "file_extension": ".py",
   "mimetype": "text/x-python",
   "name": "python",
   "nbconvert_exporter": "python",
   "pygments_lexer": "ipython3",
   "version": "3.10.11"
  }
 },
 "nbformat": 4,
 "nbformat_minor": 2
}
